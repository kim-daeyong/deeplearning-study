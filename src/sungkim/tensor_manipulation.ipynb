{
 "cells": [
  {
   "cell_type": "code",
   "execution_count": 12,
   "id": "apart-workshop",
   "metadata": {},
   "outputs": [],
   "source": [
    "import tensorflow as tf\n",
    "import numpy as np\n",
    "import pprint as pp\n",
    "\n"
   ]
  },
  {
   "cell_type": "code",
   "execution_count": 18,
   "id": "quarterly-married",
   "metadata": {},
   "outputs": [
    {
     "name": "stdout",
     "output_type": "stream",
     "text": [
      "array([0., 1., 2., 3., 4., 5., 6.])\n",
      "1\n",
      "(7,)\n",
      "0.0 1.0 6.0\n",
      "[2. 3. 4.] [4. 5.]\n",
      "[0. 1.] [3. 4. 5. 6.]\n",
      "array([[0., 1.],\n",
      "       [2., 3.]])\n",
      "2\n",
      "(2, 2)\n"
     ]
    }
   ],
   "source": [
    "t = np.array([0., 1., 2., 3., 4., 5., 6.])\n",
    "\n",
    "pp.pprint(t)\n",
    "print(t.ndim)\n",
    "print(t.shape)\n",
    "print(t[0], t[1], t[-1])\n",
    "print(t[2:5], t[4:-1])\n",
    "print(t[:2], t[3:])\n",
    "\n",
    "t = np.array([[0., 1.], [2., 3.]])\n",
    "\n",
    "pp.pprint(t)\n",
    "print(t.ndim)\n",
    "print(t.shape)"
   ]
  },
  {
   "cell_type": "code",
   "execution_count": 22,
   "id": "legendary-password",
   "metadata": {},
   "outputs": [
    {
     "name": "stdout",
     "output_type": "stream",
     "text": [
      "<tf.Tensor: shape=(1, 2), dtype=float32, numpy=array([[4., 5.]], dtype=float32)>\n"
     ]
    }
   ],
   "source": [
    "matrix1 = tf.constant([[1., 2.]])\n",
    "matrix2 = tf.constant(3.)\n",
    "\n",
    "pp.pprint((matrix1 + matrix2))\n",
    "# http://scipy.github.io/old-wiki/pages/EricsBroadcastingDoc Broadcasting참고"
   ]
  },
  {
   "cell_type": "code",
   "execution_count": 30,
   "id": "wrong-wilson",
   "metadata": {},
   "outputs": [
    {
     "name": "stdout",
     "output_type": "stream",
     "text": [
      "tf.Tensor(1, shape=(), dtype=int32)\n",
      "tf.Tensor(2.5, shape=(), dtype=float32)\n",
      "tf.Tensor([2. 3.], shape=(2,), dtype=float32)\n",
      "tf.Tensor([1.5 3.5], shape=(2,), dtype=float32)\n",
      "tf.Tensor([1.5 3.5], shape=(2,), dtype=float32)\n"
     ]
    }
   ],
   "source": [
    "print(tf.reduce_mean([1,2], axis=0))\n",
    "\n",
    "x = [[1., 2.],\n",
    "    [3., 4.]]\n",
    "\n",
    "print(tf.reduce_mean(x))\n",
    "print(tf.reduce_mean(x, axis=0))\n",
    "print(tf.reduce_mean(x, axis=1))\n",
    "print(tf.reduce_mean(x, axis=-1))"
   ]
  },
  {
   "cell_type": "code",
   "execution_count": 33,
   "id": "adjusted-nomination",
   "metadata": {},
   "outputs": [
    {
     "name": "stdout",
     "output_type": "stream",
     "text": [
      "tf.Tensor(10.0, shape=(), dtype=float32)\n",
      "tf.Tensor([4. 6.], shape=(2,), dtype=float32)\n",
      "tf.Tensor([3. 7.], shape=(2,), dtype=float32)\n"
     ]
    }
   ],
   "source": [
    "print(tf.reduce_sum(x))\n",
    "print(tf.reduce_sum(x, axis = 0))\n",
    "print(tf.reduce_sum(x, axis = -1))"
   ]
  },
  {
   "cell_type": "code",
   "execution_count": 38,
   "id": "considered-tyler",
   "metadata": {},
   "outputs": [
    {
     "name": "stdout",
     "output_type": "stream",
     "text": [
      "tf.Tensor([1 0 0], shape=(3,), dtype=int64)\n",
      "tf.Tensor([2 0], shape=(2,), dtype=int64)\n",
      "tf.Tensor([2 0], shape=(2,), dtype=int64)\n"
     ]
    }
   ],
   "source": [
    "x = [[0, 1,2],\n",
    "    [2, 1, 0]]\n",
    "# axis 0 : 아래, axis 1 : ->\n",
    "print(tf.argmax(x, axis=0))\n",
    "print(tf.argmax(x, axis=1))\n",
    "print(tf.argmax(x, axis=-1))"
   ]
  },
  {
   "cell_type": "code",
   "execution_count": 49,
   "id": "strategic-rally",
   "metadata": {},
   "outputs": [
    {
     "name": "stdout",
     "output_type": "stream",
     "text": [
      "(2, 2, 3)\n",
      "tf.Tensor(\n",
      "[[ 0  1  2]\n",
      " [ 3  4  5]\n",
      " [ 6  7  8]\n",
      " [ 9 10 11]], shape=(4, 3), dtype=int64)\n",
      "tf.Tensor(\n",
      "[[[ 0  1  2]]\n",
      "\n",
      " [[ 3  4  5]]\n",
      "\n",
      " [[ 6  7  8]]\n",
      "\n",
      " [[ 9 10 11]]], shape=(4, 1, 3), dtype=int64)\n",
      "tf.Tensor([0 1 2], shape=(3,), dtype=int32)\n",
      "tf.Tensor(\n",
      "[[0]\n",
      " [1]\n",
      " [2]], shape=(3, 1), dtype=int32)\n"
     ]
    }
   ],
   "source": [
    "x = np.array([[[0, 1, 2],\n",
    "             [3, 4, 5]],\n",
    "             \n",
    "             [[6, 7, 8],\n",
    "             [9, 10, 11]]])\n",
    "print(x.shape)\n",
    "print(tf.reshape(x, shape=[-1, 3]))\n",
    "\n",
    "print(tf.reshape(x, shape=[-1, 1, 3]))"
   ]
  },
  {
   "cell_type": "code",
   "execution_count": 58,
   "id": "present-frost",
   "metadata": {},
   "outputs": [
    {
     "name": "stdout",
     "output_type": "stream",
     "text": [
      "tf.Tensor([0 1 2], shape=(3,), dtype=int32)\n",
      "tf.Tensor(\n",
      "[[0]\n",
      " [1]\n",
      " [2]], shape=(3, 1), dtype=int32)\n",
      "tf.Tensor(\n",
      "[[[1. 0. 0.]]\n",
      "\n",
      " [[0. 1. 0.]]\n",
      "\n",
      " [[0. 0. 1.]]\n",
      "\n",
      " [[1. 0. 0.]]], shape=(4, 1, 3), dtype=float32)\n",
      "tf.Tensor(\n",
      "[[1. 0. 0.]\n",
      " [0. 1. 0.]\n",
      " [0. 0. 1.]\n",
      " [1. 0. 0.]], shape=(4, 3), dtype=float32)\n"
     ]
    }
   ],
   "source": [
    "print(tf.squeeze([[0],[1],[2]]))\n",
    "print(tf.expand_dims([0, 1, 2], 1))\n",
    "one = tf.one_hot([[0], [1], [2], [0]], depth=3)\n",
    "print(one)\n",
    "print(tf.reshape(one, shape = [-1, 3]))"
   ]
  },
  {
   "cell_type": "code",
   "execution_count": 62,
   "id": "ignored-daisy",
   "metadata": {},
   "outputs": [
    {
     "name": "stdout",
     "output_type": "stream",
     "text": [
      "tf.Tensor([1 2 3 4], shape=(4,), dtype=int32)\n",
      "tf.Tensor([1 0 1 0], shape=(4,), dtype=int32)\n"
     ]
    }
   ],
   "source": [
    "print(tf.cast([1.8, 2.2, 3.3, 4.9], tf.int32))\n",
    "print(tf.cast([True, False, 1 == 1, 0 == 1], tf.int32))"
   ]
  },
  {
   "cell_type": "code",
   "execution_count": 63,
   "id": "sudden-perry",
   "metadata": {},
   "outputs": [
    {
     "name": "stdout",
     "output_type": "stream",
     "text": [
      "tf.Tensor(\n",
      "[[1 4]\n",
      " [2 5]\n",
      " [3 6]], shape=(3, 2), dtype=int32)\n",
      "tf.Tensor(\n",
      "[[1 2 3]\n",
      " [4 5 6]], shape=(2, 3), dtype=int32)\n"
     ]
    }
   ],
   "source": [
    "x = [1, 4]\n",
    "y = [2, 5]\n",
    "z = [3, 6]\n",
    "\n",
    "print(tf.stack([x, y, z]))\n",
    "print(tf.stack([x, y, z], axis = 1))"
   ]
  },
  {
   "cell_type": "code",
   "execution_count": 65,
   "id": "incident-lesbian",
   "metadata": {},
   "outputs": [
    {
     "name": "stdout",
     "output_type": "stream",
     "text": [
      "tf.Tensor(\n",
      "[[1 1 1]\n",
      " [1 1 1]], shape=(2, 3), dtype=int32)\n",
      "tf.Tensor(\n",
      "[[0 0 0]\n",
      " [0 0 0]], shape=(2, 3), dtype=int32)\n"
     ]
    }
   ],
   "source": [
    "x = [[0, 1, 2],\n",
    "     [2, 1, 0]]\n",
    "print(tf.ones_like(x))\n",
    "print(tf.zeros_like(x))"
   ]
  },
  {
   "cell_type": "code",
   "execution_count": 66,
   "id": "modern-burden",
   "metadata": {},
   "outputs": [
    {
     "name": "stdout",
     "output_type": "stream",
     "text": [
      "1 4\n",
      "2 5\n",
      "3 6\n"
     ]
    }
   ],
   "source": [
    "for x, y in zip([1, 2, 3], [4, 5, 6]):\n",
    "    print(x, y)"
   ]
  },
  {
   "cell_type": "code",
   "execution_count": null,
   "id": "wooden-scroll",
   "metadata": {},
   "outputs": [],
   "source": []
  }
 ],
 "metadata": {
  "kernelspec": {
   "display_name": "Python 3",
   "language": "python",
   "name": "python3"
  },
  "language_info": {
   "codemirror_mode": {
    "name": "ipython",
    "version": 3
   },
   "file_extension": ".py",
   "mimetype": "text/x-python",
   "name": "python",
   "nbconvert_exporter": "python",
   "pygments_lexer": "ipython3",
   "version": "3.8.7"
  }
 },
 "nbformat": 4,
 "nbformat_minor": 5
}
