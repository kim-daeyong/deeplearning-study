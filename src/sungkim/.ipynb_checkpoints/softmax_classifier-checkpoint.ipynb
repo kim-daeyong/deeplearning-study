{
 "cells": [
  {
   "cell_type": "code",
   "execution_count": 1,
   "id": "tired-sussex",
   "metadata": {},
   "outputs": [
    {
     "data": {
      "text/plain": [
       "(TensorSpec(shape=(None, 4), dtype=tf.float32, name=None),\n",
       " TensorSpec(shape=(None, 3), dtype=tf.float32, name=None))"
      ]
     },
     "execution_count": 1,
     "metadata": {},
     "output_type": "execute_result"
    }
   ],
   "source": [
    "import tensorflow as tf\n",
    "import numpy as np\n",
    "\n",
    "x_data = [[1, 2, 1, 1],\n",
    " [2, 1, 3, 2],\n",
    " [3, 1, 3, 4],\n",
    " [4, 1, 5, 5],\n",
    " [1, 7, 5, 5],\n",
    " [1, 2, 5, 6],\n",
    " [1, 6, 6, 6],\n",
    " [1, 7, 7, 7]]\n",
    "y_data = [[0, 0, 1],\n",
    " [0, 0, 1],\n",
    " [0, 0, 1],\n",
    " [0, 1, 0],\n",
    " [0, 1, 0],\n",
    " [0, 1, 0],\n",
    " [1, 0, 0],\n",
    " [1, 0, 0]]\n",
    "# 3개의 클래스 분류할때 0,1,2 를 각각 [1,0,0] , [0,1,0], [0,0,1]로 하나만 hot하게 표시함 \n",
    "x_data = np.asarray(x_data, dtype = np.float32)\n",
    "y_data = np.asarray(y_data, dtype = np.float32)\n",
    "\n",
    "#y의 개수 = 클래스 개수 = label개수\n",
    "dataset = tf.data.Dataset.from_tensor_slices((x_data, y_data)).batch(len(x_data))\n",
    "W = tf.Variable(tf.random.normal([4,3], name='weight'))\n",
    "b = tf.Variable(tf.random.normal([3]),name = 'bias')\n",
    "variable = [W, b]\n",
    "\n",
    "dataset.element_spec\n"
   ]
  },
  {
   "cell_type": "code",
   "execution_count": 3,
   "id": "scenic-visibility",
   "metadata": {},
   "outputs": [
    {
     "name": "stdout",
     "output_type": "stream",
     "text": [
      "iter: 0, Loss: 2.9652\n",
      "iter: 300, Loss: 0.9612\n",
      "iter: 600, Loss: 0.7470\n",
      "iter: 900, Loss: 0.6428\n",
      "iter: 1200, Loss: 0.5818\n",
      "iter: 1500, Loss: 0.5406\n",
      "iter: 1800, Loss: 0.5100\n",
      "iter: 2100, Loss: 0.4858\n",
      "iter: 2400, Loss: 0.4656\n",
      "iter: 2700, Loss: 0.4483\n",
      "iter: 3000, Loss: 0.4331\n",
      "tf.Tensor(\n",
      "[[1.8504465e-02 6.2083680e-02 9.1941184e-01]\n",
      " [3.7147619e-02 2.1181118e-01 7.5104117e-01]\n",
      " [1.2109318e-03 4.2653242e-01 5.7225662e-01]\n",
      " [1.0551249e-03 5.9576237e-01 4.0318254e-01]\n",
      " [5.3847271e-01 4.0947419e-01 5.2053142e-02]\n",
      " [2.6162753e-01 7.3787308e-01 4.9944385e-04]\n",
      " [6.2392628e-01 3.7337187e-01 2.7018907e-03]\n",
      " [7.0435089e-01 2.9510948e-01 5.3954741e-04]], shape=(8, 3), dtype=float32)\n",
      "tf.Tensor([2 2 2 1 0 1 0 0], shape=(8,), dtype=int64)\n",
      "tf.Tensor([2 2 2 1 1 1 0 0], shape=(8,), dtype=int64)\n"
     ]
    }
   ],
   "source": [
    "\n",
    "def softmax_fn (features):\n",
    "    hypothesis = tf.nn.softmax(tf.matmul(features,W)+b)\n",
    "    return hypothesis\n",
    "\n",
    "def loss_fn (features, labels):\n",
    "    hypothesis = tf.nn.softmax(tf.matmul(features,W)+b)\n",
    "    cost = tf.reduce_mean(-tf.reduce_sum(y_data * tf.math.log(hypothesis), axis =1))\n",
    "    return cost\n",
    "\n",
    "def grad (hypothesis, features, labels):\n",
    "    with tf.GradientTape() as tape:\n",
    "        loss_value = loss_fn(features, labels)\n",
    "    return tape.gradient(loss_value, [W, b])\n",
    "\n",
    "optimizer = tf.keras.optimizers.SGD(learning_rate = 0.01)\n",
    "   \n",
    "n_epochs = 3000\n",
    "for step in range(n_epochs + 1):\n",
    "    \n",
    "    for features, labels in iter(dataset):\n",
    "        hypothesis = softmax_fn (features)\n",
    "        grads = grad(hypothesis, features, labels)\n",
    "        optimizer.apply_gradients(grads_and_vars = zip(grads, [W, b]))\n",
    "    \n",
    "    if step % 100 == 0:\n",
    "            print(\"iter: {}, Loss: {:.4f}\".format(step, loss_fn(features, labels)))\n",
    "            \n",
    "a = x_data\n",
    "a = softmax_fn (a)\n",
    "print(hypothesis) #softmax 함수를 통과시킨 x_data\n",
    "\n",
    "#argmax 가장큰 값의index를 찾아줌\n",
    "\n",
    "print(tf.argmax(a,1)) #가설을 통한 예측값\n",
    "print(tf.argmax(y_data,1)) #실제 값"
   ]
  },
  {
   "cell_type": "code",
   "execution_count": null,
   "id": "accepted-beach",
   "metadata": {},
   "outputs": [],
   "source": []
  }
 ],
 "metadata": {
  "kernelspec": {
   "display_name": "Python 3",
   "language": "python",
   "name": "python3"
  },
  "language_info": {
   "codemirror_mode": {
    "name": "ipython",
    "version": 3
   },
   "file_extension": ".py",
   "mimetype": "text/x-python",
   "name": "python",
   "nbconvert_exporter": "python",
   "pygments_lexer": "ipython3",
   "version": "3.8.7"
  }
 },
 "nbformat": 4,
 "nbformat_minor": 5
}
