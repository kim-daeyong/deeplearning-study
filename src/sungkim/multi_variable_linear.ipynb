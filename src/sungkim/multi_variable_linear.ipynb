{
 "cells": [
  {
   "cell_type": "code",
   "execution_count": 2,
   "id": "configured-outreach",
   "metadata": {},
   "outputs": [],
   "source": [
    "import tensorflow as tf\n",
    "\n",
    "import numpy as np"
   ]
  },
  {
   "cell_type": "code",
   "execution_count": 20,
   "id": "seven-updating",
   "metadata": {},
   "outputs": [
    {
     "name": "stdout",
     "output_type": "stream",
     "text": [
      "    0 |   68188.1484\n",
      "   50 |       4.2326\n",
      "  100 |       4.1549\n",
      "  150 |       4.0793\n",
      "  200 |       4.0058\n",
      "  250 |       3.9344\n",
      "  300 |       3.8649\n",
      "  350 |       3.7973\n",
      "  400 |       3.7316\n",
      "  450 |       3.6677\n",
      "  500 |       3.6055\n",
      "  550 |       3.5451\n",
      "  600 |       3.4863\n",
      "  650 |       3.4291\n",
      "  700 |       3.3736\n",
      "  750 |       3.3195\n",
      "  800 |       3.2669\n",
      "  850 |       3.2157\n",
      "  900 |       3.1660\n",
      "  950 |       3.1177\n",
      " 1000 |       3.0707\n"
     ]
    }
   ],
   "source": [
    "tf.random.set_seed(0)\n",
    "\n",
    "x1 = [73., 93., 89., 96., 73.]\n",
    "x2 = [80., 88., 91., 98., 66.]\n",
    "x3 = [152., 185., 180., 196., 142.]\n",
    "y = [152., 184., 180., 196., 142.]\n",
    "\n",
    "w1 = tf.Variable(tf.random.normal([1]))\n",
    "w2 = tf.Variable(tf.random.normal([1]))\n",
    "w3 = tf.Variable(tf.random.normal([1]))\n",
    "b = tf.Variable(tf.random.normal([1]))\n",
    "\n",
    "learning_rate = 0.00001\n",
    "\n",
    "for i in range(1000 + 1):\n",
    "    with tf.GradientTape() as tape:\n",
    "        hypothesis = w1 * x1 + w2 * x2 + w3 * x3 + b\n",
    "        cost = tf.reduce_mean(tf.square(hypothesis - y))\n",
    "    w1_grad, w2_grad, w3_grad, b_grad = tape.gradient(cost, [w1, w2, w3, b])\n",
    "    \n",
    "    w1.assign_sub(learning_rate * w1_grad)\n",
    "    w2.assign_sub(learning_rate * w2_grad)\n",
    "    w3.assign_sub(learning_rate * w3_grad)\n",
    "    b.assign_sub(learning_rate * b_grad)\n",
    "    \n",
    "    if i % 50 == 0:\n",
    "        print(\"{:5} | {:12.4f}\".format(i, cost.numpy()))"
   ]
  },
  {
   "cell_type": "code",
   "execution_count": 5,
   "id": "binary-auction",
   "metadata": {},
   "outputs": [
    {
     "name": "stdout",
     "output_type": "stream",
     "text": [
      "    0 | 128355.8906\n",
      "  100 |    82.6959\n",
      "  200 |    66.5427\n",
      "  300 |    66.1826\n",
      "  400 |    65.8268\n",
      "  500 |    65.4723\n",
      "  600 |    65.1203\n",
      "  700 |    64.7698\n",
      "  800 |    64.4214\n",
      "  900 |    64.0747\n",
      " 1000 |    63.7302\n",
      " 1100 |    63.3871\n",
      " 1200 |    63.0463\n",
      " 1300 |    62.7069\n",
      " 1400 |    62.3698\n",
      " 1500 |    62.0341\n",
      " 1600 |    61.7005\n",
      " 1700 |    61.3685\n",
      " 1800 |    61.0386\n",
      " 1900 |    60.7101\n",
      " 2000 |    60.3838\n"
     ]
    }
   ],
   "source": [
    "data = np.array([\n",
    "    [73, 80, 75, 152],\n",
    "    [93, 88, 93, 185],\n",
    "    [89, 91, 90, 180],\n",
    "    [96, 98, 100, 196],\n",
    "    [73, 66, 70, 142]\n",
    "], dtype= np.float32)\n",
    "\n",
    "x = data[:,:-1]\n",
    "y = data[:, [-1]]\n",
    "\n",
    "w = tf.Variable(tf.random.normal([3, 1]))\n",
    "b = tf.Variable(tf.random.normal([1]))\n",
    "\n",
    "\n",
    "\n",
    "learning_rate = 0.000001\n",
    "\n",
    "def predict(x):\n",
    "    return tf.matmul(x, w) + b\n",
    "\n",
    "n_epochs = 2000\n",
    "for i in range(n_epochs + 1):\n",
    "    with tf.GradientTape() as tape:\n",
    "        cost = tf.reduce_mean((tf.square(predict(x) - y)))\n",
    "    w_grad, b_grad = tape.gradient(cost, [w, b])\n",
    "    \n",
    "    w.assign_sub(learning_rate * w_grad)\n",
    "    b.assign_sub(learning_rate * b_grad)\n",
    "    \n",
    "    if i % 100 == 0:\n",
    "        print(\"{:5} | {:10.4f}\".format(i, cost.numpy()))\n",
    "        \n",
    "lists = []\n",
    "\n"
   ]
  },
  {
   "cell_type": "code",
   "execution_count": null,
   "id": "opposed-merchant",
   "metadata": {},
   "outputs": [],
   "source": []
  }
 ],
 "metadata": {
  "kernelspec": {
   "display_name": "Python 3",
   "language": "python",
   "name": "python3"
  },
  "language_info": {
   "codemirror_mode": {
    "name": "ipython",
    "version": 3
   },
   "file_extension": ".py",
   "mimetype": "text/x-python",
   "name": "python",
   "nbconvert_exporter": "python",
   "pygments_lexer": "ipython3",
   "version": "3.8.7"
  }
 },
 "nbformat": 4,
 "nbformat_minor": 5
}
