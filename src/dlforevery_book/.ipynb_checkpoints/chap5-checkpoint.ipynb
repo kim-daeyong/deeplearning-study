{
 "cells": [
  {
   "cell_type": "code",
   "execution_count": null,
   "id": "positive-disclaimer",
   "metadata": {},
   "outputs": [],
   "source": [
    "import numpy as np\n",
    "import pandas as pd\n",
    "import matplotlib.pyplot as plt"
   ]
  },
  {
   "cell_type": "code",
   "execution_count": null,
   "id": "caroline-petroleum",
   "metadata": {},
   "outputs": [],
   "source": [
    "data = [[2, 0], [4, 0], [6, 0], [8, 1], [10, 1], [12, 1],[14, 1]]\n",
    "\n",
    "x_data = [i[0] for i in data]\n",
    "y_data = [i[1] for i in data]\n",
    "\n",
    "plt.scatter(x_data, y_data)\n",
    "plt.xlim(0, 15)\n",
    "\n",
    "a = 0;\n",
    "b = 0;\n",
    "\n",
    "lr = 0.05\n",
    "\n",
    "def sigmoid(x):\n",
    "    return 1 / (1 + np.e ** (-x))\n",
    "\n",
    "epochs = 2001\n",
    "for i in range(epochs):\n",
    "    for x_data, y_data in data:\n",
    "        a_diff = x_data * (sigmoid(a * x_data + b) -y_data)\n",
    "        b_diff = sigmoid(a * x_data + b) - y_data\n",
    "        a = a - lr * a_diff\n",
    "        b = b - lr * b_diff\n",
    "        \n",
    "        if i % 100 == 0:\n",
    "            print(\"epoch = %.f, 기울기 = %.04f, 절편 = %.04f\" % (i, a, b))"
   ]
  },
  {
   "cell_type": "code",
   "execution_count": null,
   "id": "resistant-economy",
   "metadata": {},
   "outputs": [],
   "source": []
  },
  {
   "cell_type": "code",
   "execution_count": null,
   "id": "decreased-pattern",
   "metadata": {},
   "outputs": [],
   "source": []
  }
 ],
 "metadata": {
  "kernelspec": {
   "display_name": "Python 3",
   "language": "python",
   "name": "python3"
  },
  "language_info": {
   "codemirror_mode": {
    "name": "ipython",
    "version": 3
   },
   "file_extension": ".py",
   "mimetype": "text/x-python",
   "name": "python",
   "nbconvert_exporter": "python",
   "pygments_lexer": "ipython3",
   "version": "3.8.7"
  }
 },
 "nbformat": 4,
 "nbformat_minor": 5
}
