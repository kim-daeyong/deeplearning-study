{
 "cells": [
  {
   "cell_type": "code",
   "execution_count": 1,
   "id": "opponent-emergency",
   "metadata": {},
   "outputs": [],
   "source": [
    "import numpy\n",
    "import tensorflow as tf\n",
    "import matplotlib.pyplot as plt\n",
    "\n",
    "# 로이터 뉴스 데이터셋 불러오기\n",
    "from tensorflow.keras.datasets import reuters\n",
    "from tensorflow.keras.models import Sequential\n",
    "#from tensorflow.keras.models import Sequential\n",
    "#from tensorflow.keras.layers import Dense,LSTM,Embedding\n",
    "from tensorflow.keras.layers import Dense, LSTM, Embedding\n",
    "from tensorflow.keras.preprocessing import sequence\n",
    "from tensorflow.keras.utils import to_categorical\n",
    "\n",
    "seed = 0\n",
    "numpy.random.seed(seed)\n",
    "tf.random.set_seed(3)\n",
    "\n",
    "(X_train, Y_train), (X_test, Y_test) = reuters.load_data(num_words=1000, test_split=0.2) # num_words = 빈도가 1~1000에 해당하는 단어만 선택"
   ]
  },
  {
   "cell_type": "code",
   "execution_count": 5,
   "id": "third-combination",
   "metadata": {},
   "outputs": [
    {
     "name": "stdout",
     "output_type": "stream",
     "text": [
      "46 카테고리\n",
      "8982 학습용 뉴스 기사\n",
      "2246 테스트용 뉴스 기사\n",
      "[1, 2, 2, 8, 43, 10, 447, 5, 25, 207, 270, 5, 2, 111, 16, 369, 186, 90, 67, 7, 89, 5, 19, 102, 6, 19, 124, 15, 90, 67, 84, 22, 482, 26, 7, 48, 4, 49, 8, 864, 39, 209, 154, 6, 151, 6, 83, 11, 15, 22, 155, 11, 15, 7, 48, 9, 2, 2, 504, 6, 258, 6, 272, 11, 15, 22, 134, 44, 11, 15, 16, 8, 197, 2, 90, 67, 52, 29, 209, 30, 32, 132, 6, 109, 15, 17, 12]\n"
     ]
    }
   ],
   "source": [
    "category = numpy.max(Y_train) + 1\n",
    "print(category, '카테고리')\n",
    "print(len(X_train), '학습용 뉴스 기사')\n",
    "print(len(X_test), '테스트용 뉴스 기사')\n",
    "print(X_train[0])"
   ]
  },
  {
   "cell_type": "code",
   "execution_count": 2,
   "id": "progressive-dining",
   "metadata": {},
   "outputs": [
    {
     "name": "stdout",
     "output_type": "stream",
     "text": [
      "Epoch 1/20\n",
      "90/90 [==============================] - 1s 17ms/step - loss: 2.5777 - accuracy: 0.3497 - val_loss: 2.1698 - val_accuracy: 0.4488\n",
      "Epoch 2/20\n",
      "90/90 [==============================] - 1s 14ms/step - loss: 2.0451 - accuracy: 0.4874 - val_loss: 1.9806 - val_accuracy: 0.4973\n",
      "Epoch 3/20\n",
      "90/90 [==============================] - 1s 14ms/step - loss: 1.8807 - accuracy: 0.5134 - val_loss: 1.7994 - val_accuracy: 0.5329\n",
      "Epoch 4/20\n",
      "90/90 [==============================] - 1s 14ms/step - loss: 1.7264 - accuracy: 0.5544 - val_loss: 1.7000 - val_accuracy: 0.5637\n",
      "Epoch 5/20\n",
      "90/90 [==============================] - 1s 14ms/step - loss: 1.6564 - accuracy: 0.5734 - val_loss: 1.6662 - val_accuracy: 0.5833\n",
      "Epoch 6/20\n",
      "90/90 [==============================] - 1s 14ms/step - loss: 1.6018 - accuracy: 0.5935 - val_loss: 1.6253 - val_accuracy: 0.6015\n",
      "Epoch 7/20\n",
      "90/90 [==============================] - 1s 14ms/step - loss: 1.4929 - accuracy: 0.6242 - val_loss: 1.5309 - val_accuracy: 0.6171\n",
      "Epoch 8/20\n",
      "90/90 [==============================] - 1s 14ms/step - loss: 1.3546 - accuracy: 0.6628 - val_loss: 1.4273 - val_accuracy: 0.6456\n",
      "Epoch 9/20\n",
      "90/90 [==============================] - 1s 14ms/step - loss: 1.2844 - accuracy: 0.6792 - val_loss: 1.3722 - val_accuracy: 0.6541\n",
      "Epoch 10/20\n",
      "90/90 [==============================] - 1s 14ms/step - loss: 1.1907 - accuracy: 0.7003 - val_loss: 1.3318 - val_accuracy: 0.6692\n",
      "Epoch 11/20\n",
      "90/90 [==============================] - 1s 14ms/step - loss: 1.1323 - accuracy: 0.7130 - val_loss: 1.3051 - val_accuracy: 0.6785\n",
      "Epoch 12/20\n",
      "90/90 [==============================] - 1s 14ms/step - loss: 1.0777 - accuracy: 0.7237 - val_loss: 1.3026 - val_accuracy: 0.6821\n",
      "Epoch 13/20\n",
      "90/90 [==============================] - 1s 14ms/step - loss: 1.0502 - accuracy: 0.7322 - val_loss: 1.2733 - val_accuracy: 0.6763\n",
      "Epoch 14/20\n",
      "90/90 [==============================] - 1s 14ms/step - loss: 1.0017 - accuracy: 0.7429 - val_loss: 1.2310 - val_accuracy: 0.6950\n",
      "Epoch 15/20\n",
      "90/90 [==============================] - 1s 14ms/step - loss: 0.9598 - accuracy: 0.7546 - val_loss: 1.2259 - val_accuracy: 0.6923\n",
      "Epoch 16/20\n",
      "90/90 [==============================] - 1s 14ms/step - loss: 0.9169 - accuracy: 0.7649 - val_loss: 1.2389 - val_accuracy: 0.6883\n",
      "Epoch 17/20\n",
      "90/90 [==============================] - 1s 14ms/step - loss: 0.8834 - accuracy: 0.7751 - val_loss: 1.2181 - val_accuracy: 0.7017\n",
      "Epoch 18/20\n",
      "90/90 [==============================] - 1s 14ms/step - loss: 0.8448 - accuracy: 0.7842 - val_loss: 1.2098 - val_accuracy: 0.6999\n",
      "Epoch 19/20\n",
      "90/90 [==============================] - 1s 14ms/step - loss: 0.8131 - accuracy: 0.7936 - val_loss: 1.2341 - val_accuracy: 0.6901\n",
      "Epoch 20/20\n",
      "90/90 [==============================] - 1s 14ms/step - loss: 0.7747 - accuracy: 0.8020 - val_loss: 1.2546 - val_accuracy: 0.6995\n",
      "71/71 [==============================] - 0s 6ms/step - loss: 1.2546 - accuracy: 0.6995\n",
      "\n",
      " Test Accuracy: 0.6995\n"
     ]
    }
   ],
   "source": [
    "# 데이터 전처리\n",
    "x_train = sequence.pad_sequences(X_train, maxlen=100)\n",
    "x_test = sequence.pad_sequences(X_test, maxlen=100)\n",
    "y_train = to_categorical(Y_train)\n",
    "y_test = to_categorical(Y_test)\n",
    "\n",
    "model = Sequential()\n",
    "model.add(Embedding(1000, 100))\n",
    "model.add(LSTM(100, activation='tanh'))\n",
    "model.add(Dense(46, activation='softmax'))\n",
    "\n",
    "model.compile(loss='categorical_crossentropy', optimizer='adam', metrics=['accuracy'])\n",
    "\n",
    "history = model.fit(x_train, y_train, batch_size=100, epochs=20, validation_data=(x_test, y_test))\n",
    "\n",
    "print(\"\\n Test Accuracy: %.4f\" % (model.evaluate(x_test, y_test)[1]))"
   ]
  },
  {
   "cell_type": "code",
   "execution_count": 3,
   "id": "fifth-friday",
   "metadata": {},
   "outputs": [
    {
     "data": {
      "image/png": "[encoded data removed]",
      "text/plain": [
       "<Figure size 432x288 with 1 Axes>"
      ]
     },
     "metadata": {
      "needs_background": "light"
     },
     "output_type": "display_data"
    }
   ],
   "source": [
    "y_vloss = history.history['val_loss']\n",
    "\n",
    "\n",
    "y_loss = history.history['loss']\n",
    "\n",
    "\n",
    "x_len = numpy.arange(len(y_loss))\n",
    "plt.plot(x_len, y_vloss, marker='.', c=\"red\", label='Testset_loss')\n",
    "plt.plot(x_len, y_loss, marker='.', c=\"blue\", label='Trainset_loss')\n",
    "\n",
    "\n",
    "plt.legend(loc='upper right')\n",
    "plt.grid()\n",
    "plt.xlabel('epoch')\n",
    "plt.ylabel('loss')\n",
    "plt.show()"
   ]
  },
  {
   "cell_type": "code",
   "execution_count": 5,
   "id": "entire-strip",
   "metadata": {},
   "outputs": [
    {
     "name": "stdout",
     "output_type": "stream",
     "text": [
      "Downloading data from https://storage.googleapis.com/tensorflow/tf-keras-datasets/imdb.npz\n",
      "17465344/17464789 [==============================] - 1s 0us/step\n",
      "Model: \"sequential_1\"\n",
      "_________________________________________________________________\n",
      "Layer (type)                 Output Shape              Param #   \n",
      "=================================================================\n",
      "embedding_1 (Embedding)      (None, None, 100)         500000    \n",
      "_________________________________________________________________\n",
      "dropout (Dropout)            (None, None, 100)         0         \n",
      "_________________________________________________________________\n",
      "conv1d (Conv1D)              (None, None, 64)          32064     \n",
      "_________________________________________________________________\n",
      "max_pooling1d (MaxPooling1D) (None, None, 64)          0         \n",
      "_________________________________________________________________\n",
      "lstm_1 (LSTM)                (None, 55)                26400     \n",
      "_________________________________________________________________\n",
      "dense_1 (Dense)              (None, 1)                 56        \n",
      "_________________________________________________________________\n",
      "activation (Activation)      (None, 1)                 0         \n",
      "=================================================================\n",
      "Total params: 558,520\n",
      "Trainable params: 558,520\n",
      "Non-trainable params: 0\n",
      "_________________________________________________________________\n",
      "Epoch 1/5\n",
      "250/250 [==============================] - 4s 16ms/step - loss: 0.4485 - accuracy: 0.7738 - val_loss: 0.3674 - val_accuracy: 0.8381\n",
      "Epoch 2/5\n",
      "250/250 [==============================] - 4s 15ms/step - loss: 0.2959 - accuracy: 0.8753 - val_loss: 0.3341 - val_accuracy: 0.8555\n",
      "Epoch 3/5\n",
      "250/250 [==============================] - 4s 14ms/step - loss: 0.2538 - accuracy: 0.8941 - val_loss: 0.3247 - val_accuracy: 0.8596\n",
      "Epoch 4/5\n",
      "250/250 [==============================] - 4s 14ms/step - loss: 0.2161 - accuracy: 0.9146 - val_loss: 0.3279 - val_accuracy: 0.8564\n",
      "Epoch 5/5\n",
      "250/250 [==============================] - 4s 15ms/step - loss: 0.1802 - accuracy: 0.9328 - val_loss: 0.3497 - val_accuracy: 0.8547\n",
      "782/782 [==============================] - 4s 5ms/step - loss: 0.3497 - accuracy: 0.8547\n",
      "\n",
      " Test Accuracy: 0.8547\n"
     ]
    }
   ],
   "source": [
    "from tensorflow.keras.preprocessing import sequence\n",
    "from tensorflow.keras.models import Sequential\n",
    "from tensorflow.keras.layers import Dense, Dropout, Activation\n",
    "from tensorflow.keras.layers import Embedding\n",
    "from tensorflow.keras.layers import LSTM\n",
    "from tensorflow.keras.layers import Conv1D, MaxPooling1D\n",
    "from tensorflow.keras.datasets import imdb\n",
    "\n",
    "import numpy\n",
    "import tensorflow as tf\n",
    "import matplotlib.pyplot as plt\n",
    "\n",
    "seed = 0\n",
    "numpy.random.seed(seed)\n",
    "tf.random.set_seed(3)\n",
    "\n",
    "(x_train, y_train), (x_test, y_test) = imdb.load_data(num_words=5000)\n",
    "\n",
    "x_train = sequence.pad_sequences(x_train, maxlen=100)\n",
    "x_test = sequence.pad_sequences(x_test, maxlen=100)\n",
    "\n",
    "model = Sequential()\n",
    "model.add(Embedding(5000, 100))\n",
    "model.add(Dropout(0.5))\n",
    "model.add(Conv1D(64, 5, padding='valid', activation='relu',strides=1))\n",
    "model.add(MaxPooling1D(pool_size=4))\n",
    "model.add(LSTM(55))\n",
    "model.add(Dense(1))\n",
    "model.add(Activation('sigmoid'))\n",
    "model.summary()\n",
    "\n",
    "model.compile(loss='binary_crossentropy',\n",
    "              optimizer='adam',\n",
    "              metrics=['accuracy'])\n",
    "\n",
    "history = model.fit(x_train, y_train, batch_size=100, epochs=5, validation_data=(x_test, y_test))\n",
    "\n",
    "print(\"\\n Test Accuracy: %.4f\" % (model.evaluate(x_test, y_test)[1]))\n",
    "\n",
    "\n",
    "# 테스트 셋의 오차\n",
    "y_vloss = history.history['val_loss']\n",
    "\n",
    "# 학습셋의 오차\n",
    "y_loss = history.history['loss']"
   ]
  },
  {
   "cell_type": "code",
   "execution_count": 6,
   "id": "african-lightweight",
   "metadata": {},
   "outputs": [
    {
     "data": {
      "image/png": "[encoded data removed]",
      "text/plain": [
       "<Figure size 432x288 with 1 Axes>"
      ]
     },
     "metadata": {
      "needs_background": "light"
     },
     "output_type": "display_data"
    }
   ],
   "source": [
    "x_len = numpy.arange(len(y_loss))\n",
    "plt.plot(x_len, y_vloss, marker='.', c=\"red\", label='Testset_loss')\n",
    "plt.plot(x_len, y_loss, marker='.', c=\"blue\", label='Trainset_loss')\n",
    "\n",
    "plt.legend(loc='upper right')\n",
    "plt.grid()\n",
    "plt.xlabel('epoch')\n",
    "plt.ylabel('loss')\n",
    "plt.show()"
   ]
  },
  {
   "cell_type": "code",
   "execution_count": null,
   "id": "injured-patrick",
   "metadata": {},
   "outputs": [],
   "source": []
  }
 ],
 "metadata": {
  "kernelspec": {
   "display_name": "Python 3",
   "language": "python",
   "name": "python3"
  },
  "language_info": {
   "codemirror_mode": {
    "name": "ipython",
    "version": 3
   },
   "file_extension": ".py",
   "mimetype": "text/x-python",
   "name": "python",
   "nbconvert_exporter": "python",
   "pygments_lexer": "ipython3",
   "version": "3.8.7"
  }
 },
 "nbformat": 4,
 "nbformat_minor": 5
}
