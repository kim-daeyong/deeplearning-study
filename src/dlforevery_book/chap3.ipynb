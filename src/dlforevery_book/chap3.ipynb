{
 "cells": [
  {
   "cell_type": "code",
   "execution_count": 1,
   "id": "creative-packaging",
   "metadata": {},
   "outputs": [],
   "source": [
    "import numpy as np"
   ]
  },
  {
   "cell_type": "code",
   "execution_count": 2,
   "id": "collectible-buffer",
   "metadata": {},
   "outputs": [],
   "source": [
    "# 선형회귀\n",
    "\n",
    "# x 값과 y 값\n",
    "x = [2, 4, 6, 8]\n",
    "y = [81, 93, 91, 97]\n",
    "\n",
    "# x와 y값의 평균값\n",
    "mx = np.mean(x)\n",
    "my = np.mean(y)"
   ]
  },
  {
   "cell_type": "code",
   "execution_count": 3,
   "id": "sonic-proposition",
   "metadata": {},
   "outputs": [],
   "source": [
    "# 기울기 공식의 분모\n",
    "divisor = sum([(i - mx)**2 for i in x])"
   ]
  },
  {
   "cell_type": "code",
   "execution_count": 5,
   "id": "above-bonus",
   "metadata": {},
   "outputs": [],
   "source": [
    "# 기울기 공식의 분자\n",
    "def top(x, mx, y, my):\n",
    "    d = 0\n",
    "    for i in range(len(x)):\n",
    "        d += (x[i] - mx) * (y[i] - my)\n",
    "    return d\n",
    "dividend = top(x, mx, y, my)"
   ]
  },
  {
   "cell_type": "code",
   "execution_count": 6,
   "id": "toxic-grain",
   "metadata": {},
   "outputs": [],
   "source": [
    "# 기울기, y절편\n",
    "a = dividend / divisor\n",
    "b = my - (mx * a)"
   ]
  },
  {
   "cell_type": "code",
   "execution_count": 12,
   "id": "marked-robertson",
   "metadata": {},
   "outputs": [
    {
     "name": "stdout",
     "output_type": "stream",
     "text": [
      "기울기 = 2.3 / y절편 = 79.0\n"
     ]
    }
   ],
   "source": [
    "print('기울기 = {} / y절편 = {}'.format(a ,b))"
   ]
  },
  {
   "cell_type": "code",
   "execution_count": 43,
   "id": "academic-italic",
   "metadata": {},
   "outputs": [
    {
     "name": "stdout",
     "output_type": "stream",
     "text": [
      "공부 시간 = 2, 실제 점수 = 81 예측 점수 = 82\n",
      "공부 시간 = 4, 실제 점수 = 93 예측 점수 = 88\n",
      "공부 시간 = 6, 실제 점수 = 91 예측 점수 = 94\n",
      "공부 시간 = 8, 실제 점수 = 97 예측 점수 = 100\n",
      "최종 값 :11.0\n"
     ]
    }
   ],
   "source": [
    "# 평균 제곱 오차\n",
    "\n",
    "# 기울기 a와 y 절편 b\n",
    "fake_a_b = [3, 76]\n",
    "\n",
    "# x, y의 데이터 값\n",
    "data = [[2, 81], [4, 93], [6, 91], [8, 97]]\n",
    "x = [i[0] for i in data]\n",
    "y = [i[1] for i in data]\n",
    "\n",
    "# y = ax + b에 a와 b 값을 대입하여 결과를 출력하는 함수\n",
    "def predict(x):\n",
    "    return fake_a_b[0] * x + fake_a_b[1]\n",
    "\n",
    "# MSE 함수\n",
    "def mse(y, y_hat):\n",
    "    return ((y - y_hat) ** 2).mean()\n",
    "\n",
    "# MSE 함수를 각 y 값에 대입하여 최종 값을 구하는 함수\n",
    "def mse_val(y, predict_result):\n",
    "    return mse(np.array(y), np.array(predict_result))\n",
    "\n",
    "# 예측 값이 들어갈 빈 리스트\n",
    "predict_result = []\n",
    "\n",
    "# 모든 x 값을 한번씩 대입하여\n",
    "for i in range(len(x)):\n",
    "    # predict_result 리스트를 완성\n",
    "    predict_result.append(predict(x[i]))\n",
    "    print(\"공부 시간 = %.f, 실제 점수 = %.f 예측 점수 = %.f\" % (x[i], y[i], predict(x[i])))\n",
    "    \n",
    "print(\"최종 값 :\" + str(mse_val(y, predict_result)))\n",
    "\n",
    "# 기울기를 크게 잡으면 오차가 커진다."
   ]
  },
  {
   "cell_type": "code",
   "execution_count": null,
   "id": "native-communications",
   "metadata": {},
   "outputs": [],
   "source": []
  }
 ],
 "metadata": {
  "kernelspec": {
   "display_name": "Python 3",
   "language": "python",
   "name": "python3"
  },
  "language_info": {
   "codemirror_mode": {
    "name": "ipython",
    "version": 3
   },
   "file_extension": ".py",
   "mimetype": "text/x-python",
   "name": "python",
   "nbconvert_exporter": "python",
   "pygments_lexer": "ipython3",
   "version": "3.8.7"
  }
 },
 "nbformat": 4,
 "nbformat_minor": 5
}
