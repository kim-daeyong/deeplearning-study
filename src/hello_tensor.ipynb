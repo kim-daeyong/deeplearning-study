{
 "cells": [
  {
   "cell_type": "code",
   "execution_count": 4,
   "id": "colonial-switzerland",
   "metadata": {},
   "outputs": [
    {
     "name": "stdout",
     "output_type": "stream",
     "text": [
      "tf.Tensor(b'hello tensorflow', shape=(), dtype=string)\n"
     ]
    }
   ],
   "source": [
    "import tensorflow as tf\n",
    "\n",
    "hello = tf.constant(\"hello tensorflow\")\n",
    "\n",
    "# tf2.0 - Session deprecated\n",
    "#sess = tf.Session()\n",
    "#print(sess.run(hello))\n",
    "\n",
    "print(hello)\n",
    "\n"
   ]
  },
  {
   "cell_type": "code",
   "execution_count": 5,
   "id": "intended-rally",
   "metadata": {},
   "outputs": [
    {
     "name": "stdout",
     "output_type": "stream",
     "text": [
      "tf.Tensor(7.0, shape=(), dtype=float32)\n"
     ]
    }
   ],
   "source": [
    "node1 = tf.constant(3.0, tf.float32)\n",
    "node2 = tf.constant(4.0, tf.float32)\n",
    " \n",
    "@tf.function\n",
    "def forward() :\n",
    "    return node1 + node2\n",
    "\n",
    "out_a = forward()\n",
    "print(out_a)\n"
   ]
  },
  {
   "cell_type": "code",
   "execution_count": 22,
   "id": "conservative-diagnosis",
   "metadata": {},
   "outputs": [
    {
     "name": "stdout",
     "output_type": "stream",
     "text": [
      "tf.Tensor(3, shape=(), dtype=int32)\n",
      "<tf.Variable 'a:0' shape=(2, 2) dtype=float32, numpy=\n",
      "array([[1., 1.],\n",
      "       [1., 1.]], dtype=float32)>\n",
      "<tf.Variable 'b:0' shape=(2, 2) dtype=float32, numpy=\n",
      "array([[0., 0.],\n",
      "       [0., 0.]], dtype=float32)>\n"
     ]
    }
   ],
   "source": [
    "# tf2.0 - placeholder deprecated\n",
    "#a = tf.placeholder(tf.float32)\n",
    "#b = tf.placeholder(tf.float32)\n",
    "\n",
    "#adder_node = a + b\n",
    "\n",
    "#print(sess.run(adder_node), feed_dict={a:3, b:4.5}))\n",
    "\n",
    "a = tf.Variable(tf.ones(shape=(2,2)), name=\"a\")\n",
    "b = tf.Variable(tf.zeros(shape=(2,2)), name=\"b\")\n",
    "\n",
    "@tf.function\n",
    "def forward2(a, b):\n",
    "    return a + b\n",
    "\n",
    "out_b = forward2(1,2)\n",
    "print(out_b)\n",
    "print(a)\n",
    "print(b)"
   ]
  },
  {
   "cell_type": "code",
   "execution_count": null,
   "id": "antique-bracelet",
   "metadata": {},
   "outputs": [],
   "source": []
  }
 ],
 "metadata": {
  "kernelspec": {
   "display_name": "Python 3",
   "language": "python",
   "name": "python3"
  },
  "language_info": {
   "codemirror_mode": {
    "name": "ipython",
    "version": 3
   },
   "file_extension": ".py",
   "mimetype": "text/x-python",
   "name": "python",
   "nbconvert_exporter": "python",
   "pygments_lexer": "ipython3",
   "version": "3.8.7"
  }
 },
 "nbformat": 4,
 "nbformat_minor": 5
}
